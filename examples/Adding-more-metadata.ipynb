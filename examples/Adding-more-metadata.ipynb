{
 "cells": [
  {
   "cell_type": "markdown",
   "metadata": {
    "collapsed": true,
    "pycharm": {
     "name": "#%% md\n"
    }
   },
   "source": [
    "An example of how to add more metadata into our feature table will be given here.\n",
    "We can add information such as the age of the laser spots,or its greyscale in xray measurements etc. Todo this, we need to use `CorSolver` class."
   ]
  },
  {
   "cell_type": "code",
   "execution_count": 48,
   "outputs": [],
   "source": [
    "from mfe.util.CorSolver import CorSolver\n",
    "import pandas as pd"
   ],
   "metadata": {
    "collapsed": false,
    "pycharm": {
     "name": "#%%\n"
    }
   }
  },
  {
   "cell_type": "markdown",
   "source": [
    "We need to define the source triangle and the target triangle, in order to transform our (x, y) coordinate in the MSI measurements to the pixel coordinate in the X-ray measurements. For this example:"
   ],
   "metadata": {
    "collapsed": false,
    "pycharm": {
     "name": "#%% md\n"
    }
   }
  },
  {
   "cell_type": "code",
   "execution_count": 49,
   "outputs": [],
   "source": [
    "src_tri = [[64, 21], [175, 92], [302, 26]]\n",
    "dst_tri = [[30, 1188], [354, 1732], [20, 2332]]"
   ],
   "metadata": {
    "collapsed": false,
    "pycharm": {
     "name": "#%%\n"
    }
   }
  },
  {
   "cell_type": "code",
   "execution_count": 50,
   "outputs": [],
   "source": [
    "feature_table = pd.read_csv(r'./SBB5-10cm_mz520-580_feature_table_w_pick_peaking.csv', index_col=False)\n",
    "spot_cor = feature_table[['x', 'y']].to_numpy()\n",
    "cs = CorSolver()\n",
    "cs.fit(src_tri, dst_tri)\n",
    "px_cor = cs.transform(spot_cor)"
   ],
   "metadata": {
    "collapsed": false,
    "pycharm": {
     "name": "#%%\n"
    }
   }
  },
  {
   "cell_type": "markdown",
   "source": [
    "Then we can add the pixel coordinates in the feature_table"
   ],
   "metadata": {
    "collapsed": false,
    "pycharm": {
     "name": "#%% md\n"
    }
   }
  },
  {
   "cell_type": "code",
   "execution_count": 51,
   "outputs": [],
   "source": [
    "feature_table[['px', 'py']] = px_cor"
   ],
   "metadata": {
    "collapsed": false,
    "pycharm": {
     "name": "#%%\n"
    }
   }
  },
  {
   "cell_type": "markdown",
   "source": [
    "Then add the greyscale measured using xray"
   ],
   "metadata": {
    "collapsed": false,
    "pycharm": {
     "name": "#%% md\n"
    }
   }
  },
  {
   "cell_type": "code",
   "execution_count": 52,
   "outputs": [],
   "source": [
    "import numpy as np\n",
    "xray = np.genfromtxt(r'./xray/X-Ray_pixel.txt')\n",
    "xray = pd.DataFrame(xray, columns=['px', 'py', 'gs'])\n",
    "feature_table = feature_table.merge(xray, on=['px', 'py'])"
   ],
   "metadata": {
    "collapsed": false,
    "pycharm": {
     "name": "#%%\n"
    }
   }
  },
  {
   "cell_type": "markdown",
   "source": [
    "Now we can have a look of what our data looks in xray"
   ],
   "metadata": {
    "collapsed": false,
    "pycharm": {
     "name": "#%% md\n"
    }
   }
  },
  {
   "cell_type": "code",
   "execution_count": 53,
   "outputs": [
    {
     "data": {
      "text/plain": "(-0.5, 46.5, 250.5, -0.5)"
     },
     "execution_count": 53,
     "metadata": {},
     "output_type": "execute_result"
    },
    {
     "data": {
      "text/plain": "<Figure size 432x288 with 1 Axes>",
      "image/png": "[encoded data removed]"
     },
     "metadata": {
      "needs_background": "light"
     },
     "output_type": "display_data"
    }
   ],
   "source": [
    "import matplotlib.pyplot as plt\n",
    "plt.imshow(feature_table.pivot('x', 'y', 'gs'), cmap='Greys')\n",
    "plt.axis('off')"
   ],
   "metadata": {
    "collapsed": false,
    "pycharm": {
     "name": "#%%\n"
    }
   }
  },
  {
   "cell_type": "markdown",
   "source": [
    "After warping the layer (TODO: add a warping function), we can get the depth of each laser spot."
   ],
   "metadata": {
    "collapsed": false,
    "pycharm": {
     "name": "#%% md\n"
    }
   }
  },
  {
   "cell_type": "code",
   "execution_count": 54,
   "outputs": [],
   "source": [
    "xray = np.genfromtxt(r'./xray/X-Ray_pixel.txt')[:, 0:2]\n",
    "xray_warped = np.genfromtxt(r'./xray/X-Ray_pixel_warped.txt')[:, 0:2]\n",
    "depth = np.genfromtxt(r'./xray/X-Ray_depth.txt')[:, 1]\n",
    "A = pd.DataFrame(np.hstack([xray, xray_warped, depth.reshape(-1, 1)]), columns=['px', 'py','wpx', 'wpy', 'depth'])\n",
    "feature_table = feature_table.merge(A, on=['px', 'py'])"
   ],
   "metadata": {
    "collapsed": false,
    "pycharm": {
     "name": "#%%\n"
    }
   }
  },
  {
   "cell_type": "markdown",
   "source": [
    "And now we can save the feature table with more metadata for later analysis"
   ],
   "metadata": {
    "collapsed": false,
    "pycharm": {
     "name": "#%% md\n"
    }
   }
  },
  {
   "cell_type": "code",
   "execution_count": 58,
   "outputs": [],
   "source": [
    "feature_table = feature_table.to_csv('./SBB5-10cm_mz520-580_feature_table_w_metadata.csv', index=False)"
   ],
   "metadata": {
    "collapsed": false,
    "pycharm": {
     "name": "#%%\n"
    }
   }
  }
 ],
 "metadata": {
  "kernelspec": {
   "display_name": "Python 3",
   "language": "python",
   "name": "python3"
  },
  "language_info": {
   "codemirror_mode": {
    "name": "ipython",
    "version": 2
   },
   "file_extension": ".py",
   "mimetype": "text/x-python",
   "name": "python",
   "nbconvert_exporter": "python",
   "pygments_lexer": "ipython2",
   "version": "2.7.6"
  }
 },
 "nbformat": 4,
 "nbformat_minor": 0
}