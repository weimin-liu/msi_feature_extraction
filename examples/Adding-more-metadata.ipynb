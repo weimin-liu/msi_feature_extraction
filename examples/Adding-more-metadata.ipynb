{
 "cells": [
  {
   "cell_type": "markdown",
   "metadata": {
    "collapsed": true,
    "pycharm": {
     "name": "#%% md\n"
    }
   },
   "source": [
    "An example of how to add more metadata into our feature table will be given here.\n",
    "We can add information such as the age of the laser spots,or its greyscale in xray measurements etc. Todo this, we need to use `CorSolver` class."
   ]
  },
  {
   "cell_type": "code",
   "execution_count": 1,
   "outputs": [],
   "source": [
    "from mfe.util.CorSolver import CorSolver\n",
    "import pandas as pd"
   ],
   "metadata": {
    "collapsed": false,
    "pycharm": {
     "name": "#%%\n"
    }
   }
  },
  {
   "cell_type": "markdown",
   "source": [
    "We need to define the source triangle and the target triangle, in order to transform our (x, y) coordinate in the MSI measurements to the pixel coordinate in the X-ray measurements. For this example:"
   ],
   "metadata": {
    "collapsed": false,
    "pycharm": {
     "name": "#%% md\n"
    }
   }
  },
  {
   "cell_type": "code",
   "execution_count": 3,
   "outputs": [],
   "source": [
    "src_tri = [[56, 81], [150, 23], [304, 26]]\n",
    "dst_tri = [[340, 1165], [12, 1061], [11, 2345]]"
   ],
   "metadata": {
    "collapsed": false,
    "pycharm": {
     "name": "#%%\n"
    }
   }
  },
  {
   "cell_type": "code",
   "execution_count": 4,
   "outputs": [],
   "source": [
    "feature_table = pd.read_csv(r'./SBB5-10cm_mz520-580_feature_table_w_pick_peaking.csv', index_col=False)\n",
    "spot_cor = feature_table[['x', 'y']].to_numpy()\n",
    "cs = CorSolver()\n",
    "cs.fit(src_tri, dst_tri)\n",
    "px_cor = cs.transform(spot_cor)"
   ],
   "metadata": {
    "collapsed": false,
    "pycharm": {
     "name": "#%%\n"
    }
   }
  },
  {
   "cell_type": "markdown",
   "source": [
    "Then we can add the pixel coordinates in the feature_table"
   ],
   "metadata": {
    "collapsed": false,
    "pycharm": {
     "name": "#%% md\n"
    }
   }
  },
  {
   "cell_type": "code",
   "execution_count": 5,
   "outputs": [],
   "source": [
    "feature_table[['px', 'py']] = px_cor"
   ],
   "metadata": {
    "collapsed": false,
    "pycharm": {
     "name": "#%%\n"
    }
   }
  }
 ],
 "metadata": {
  "kernelspec": {
   "display_name": "Python 3",
   "language": "python",
   "name": "python3"
  },
  "language_info": {
   "codemirror_mode": {
    "name": "ipython",
    "version": 2
   },
   "file_extension": ".py",
   "mimetype": "text/x-python",
   "name": "python",
   "nbconvert_exporter": "python",
   "pygments_lexer": "ipython2",
   "version": "2.7.6"
  }
 },
 "nbformat": 4,
 "nbformat_minor": 0
}